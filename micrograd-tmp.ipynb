{
 "cells": [
  {
   "cell_type": "code",
   "execution_count": 1,
   "id": "d8b6df7c-5322-4292-84ef-f03d8a64ae1a",
   "metadata": {},
   "outputs": [],
   "source": [
    "import math\n",
    "import numpy as np\n",
    "import matplotlib.pyplot as plt\n",
    "%matplotlib inline"
   ]
  },
  {
   "cell_type": "code",
   "execution_count": 2,
   "id": "3fbc5d90-7e07-4a71-92a0-1bd812653583",
   "metadata": {},
   "outputs": [],
   "source": [
    "def f(x):\n",
    "    return 3*x**2 - 4*x + 5"
   ]
  },
  {
   "cell_type": "code",
   "execution_count": 3,
   "id": "bc8dd8e7-fe11-4616-b9c2-eb0497a28c63",
   "metadata": {},
   "outputs": [
    {
     "data": {
      "text/plain": [
       "20.0"
      ]
     },
     "execution_count": 3,
     "metadata": {},
     "output_type": "execute_result"
    }
   ],
   "source": [
    "f(3.0)"
   ]
  },
  {
   "cell_type": "code",
   "execution_count": 4,
   "id": "04247f66-492e-40e4-8285-c68071701a23",
   "metadata": {},
   "outputs": [
    {
     "data": {
      "text/plain": [
       "[<matplotlib.lines.Line2D at 0x74d5f4a582f0>]"
      ]
     },
     "execution_count": 4,
     "metadata": {},
     "output_type": "execute_result"
    },
    {
     "data": {
      "image/png": "[encoded data removed]",
      "text/plain": [
       "<Figure size 640x480 with 1 Axes>"
      ]
     },
     "metadata": {},
     "output_type": "display_data"
    }
   ],
   "source": [
    "xs = np.arange(-5,5,0.25)\n",
    "ys = f(xs)\n",
    "plt.plot(xs,ys)"
   ]
  },
  {
   "cell_type": "code",
   "execution_count": 5,
   "id": "f9b074ff-debd-4e90-b703-b3ec9a145c50",
   "metadata": {},
   "outputs": [
    {
     "name": "stdout",
     "output_type": "stream",
     "text": [
      "0.0014000300000063248\n",
      "0.0001400003000000538\n"
     ]
    }
   ],
   "source": [
    "h1 = 0.0001\n",
    "h2 = 0.00001\n",
    "x = 3\n",
    "print(f(x + h1)-f(x))\n",
    "print(f(x + h2)-f(x))"
   ]
  },
  {
   "cell_type": "code",
   "execution_count": 6,
   "id": "d04a2d94-8745-4a31-9e25-0e344956962d",
   "metadata": {},
   "outputs": [
    {
     "name": "stdout",
     "output_type": "stream",
     "text": [
      "4.0\n"
     ]
    }
   ],
   "source": [
    "a = 2.0\n",
    "b = -3.0\n",
    "c = 10.0\n",
    "d = a*b + c\n",
    "print(d)"
   ]
  },
  {
   "cell_type": "code",
   "execution_count": 7,
   "id": "5d79adc8-d4fc-459a-ad08-877f5824dfab",
   "metadata": {},
   "outputs": [
    {
     "name": "stdout",
     "output_type": "stream",
     "text": [
      "d1 4.0\n",
      "d2 4.0002\n",
      "Slope 2.0000000000042206\n"
     ]
    }
   ],
   "source": [
    "h = 0.0001\n",
    "\n",
    "#inputs\n",
    "a = 2.0\n",
    "b = -3.0\n",
    "c = 10.0\n",
    "\n",
    "d1 = a*b + c\n",
    "b += h\n",
    "d2 = a*b + c\n",
    "print('d1', d1)\n",
    "print('d2', d2)\n",
    "print('Slope', (d2-d1)/h)"
   ]
  },
  {
   "cell_type": "code",
   "execution_count": 8,
   "id": "f810f066-79cd-4ba1-9127-2d8536e04ed9",
   "metadata": {},
   "outputs": [
    {
     "data": {
      "text/plain": [
       "Value(data=-8.0)"
      ]
     },
     "execution_count": 8,
     "metadata": {},
     "output_type": "execute_result"
    }
   ],
   "source": [
    "class Value:\n",
    "\n",
    "    def __init__(self, data, _children=(), _op='', label=''):\n",
    "        self.data = data\n",
    "        self._prev = set(_children)\n",
    "        self._op = _op\n",
    "        self.label = label\n",
    "        self.grad = 0.0\n",
    "\n",
    "    # prints the value\n",
    "    def __repr__(self):\n",
    "        return f\"Value(data={self.data})\"\n",
    "\n",
    "    def __add__(self,other):\n",
    "        out = Value(self.data + other.data, (self, other), '+')\n",
    "        return out\n",
    "\n",
    "    def __mul__(self,other):\n",
    "        out = Value(self.data * other.data, (self, other), '*')\n",
    "        return out\n",
    "\n",
    "a = Value(2.0, label = 'a')\n",
    "b = Value(-3.0, label = 'b')\n",
    "c = Value(10.0, label = 'c')\n",
    "e = a*b; e.label = 'e'\n",
    "d = e + c; d.label = 'd'\n",
    "f = Value(-2.0, label='f')\n",
    "L = d * f; Label = 'L'\n",
    "L"
   ]
  },
  {
   "cell_type": "code",
   "execution_count": 9,
   "id": "d1f7265a-f7c0-4db7-98f5-f38474d1befb",
   "metadata": {},
   "outputs": [
    {
     "data": {
      "text/plain": [
       "{Value(data=-6.0), Value(data=10.0)}"
      ]
     },
     "execution_count": 9,
     "metadata": {},
     "output_type": "execute_result"
    }
   ],
   "source": [
    "d._prev"
   ]
  },
  {
   "cell_type": "code",
   "execution_count": 10,
   "id": "d136ca50-bdde-4cdd-b411-c8a8b4dc5855",
   "metadata": {},
   "outputs": [
    {
     "data": {
      "text/plain": [
       "'+'"
      ]
     },
     "execution_count": 10,
     "metadata": {},
     "output_type": "execute_result"
    }
   ],
   "source": [
    "d._op"
   ]
  },
  {
   "cell_type": "code",
   "execution_count": 11,
   "id": "8d176ba0-a334-4d17-a741-df1b408c7818",
   "metadata": {},
   "outputs": [],
   "source": [
    "from graphviz import Digraph\n",
    "\n",
    "def trace(root):\n",
    "  # builds a set of all nodes and edges in a graph\n",
    "  nodes, edges = set(), set()\n",
    "  def build(v):\n",
    "    if v not in nodes:\n",
    "      nodes.add(v)\n",
    "      for child in v._prev:\n",
    "        edges.add((child, v))\n",
    "        build(child)\n",
    "  build(root)\n",
    "  return nodes, edges\n",
    "\n",
    "def draw_dot(root):\n",
    "  dot = Digraph(format='svg', graph_attr={'rankdir': 'LR'}) # LR = left to right\n",
    "  \n",
    "  nodes, edges = trace(root)\n",
    "  for n in nodes:\n",
    "    uid = str(id(n))\n",
    "    # for any value in the graph, create a rectangular ('record') node for it\n",
    "    dot.node(name = uid, label = \"{ %s | data %.4f | grad %.4f }\" % (n.label, n.data, n.grad), shape='record')\n",
    "    if n._op:\n",
    "      # if this value is a result of some operation, create an op node for it\n",
    "      dot.node(name = uid + n._op, label = n._op)\n",
    "      # and connect this node to it\n",
    "      dot.edge(uid + n._op, uid)\n",
    "\n",
    "  for n1, n2 in edges:\n",
    "    # connect n1 to the op node of n2\n",
    "    dot.edge(str(id(n1)), str(id(n2)) + n2._op)\n",
    "\n",
    "  return dot"
   ]
  },
  {
   "cell_type": "code",
   "execution_count": 21,
   "id": "96fa2b9e-fc85-4922-9e1b-afc84c0dcf46",
   "metadata": {},
   "outputs": [
    {
     "data": {
      "image/svg+xml": [
       "<?xml version=\"1.0\" encoding=\"UTF-8\" standalone=\"no\"?>\n",
       "<!DOCTYPE svg PUBLIC \"-//W3C//DTD SVG 1.1//EN\"\n",
       " \"http://www.w3.org/Graphics/SVG/1.1/DTD/svg11.dtd\">\n",
       "<!-- Generated by graphviz version 12.1.2 (0)\n",
       " -->\n",
       "<!-- Pages: 1 -->\n",
       "<svg width=\"1317pt\" height=\"156pt\"\n",
       " viewBox=\"0.00 0.00 1316.75 156.00\" xmlns=\"http://www.w3.org/2000/svg\" xmlns:xlink=\"http://www.w3.org/1999/xlink\">\n",
       "<g id=\"graph0\" class=\"graph\" transform=\"scale(1 1) rotate(0) translate(4 152)\">\n",
       "<polygon fill=\"white\" stroke=\"none\" points=\"-4,4 -4,-152 1312.75,-152 1312.75,4 -4,4\"/>\n",
       "<!-- 128462280632864 -->\n",
       "<g id=\"node1\" class=\"node\">\n",
       "<title>128462280632864</title>\n",
       "<polygon fill=\"none\" stroke=\"black\" points=\"0,-111.5 0,-147.5 234,-147.5 234,-111.5 0,-111.5\"/>\n",
       "<text text-anchor=\"middle\" x=\"12.5\" y=\"-125.2\" font-family=\"Times,serif\" font-size=\"14.00\">b</text>\n",
       "<polyline fill=\"none\" stroke=\"black\" points=\"25,-112.25 25,-147.5\"/>\n",
       "<text text-anchor=\"middle\" x=\"78\" y=\"-125.2\" font-family=\"Times,serif\" font-size=\"14.00\">data &#45;3.0000</text>\n",
       "<polyline fill=\"none\" stroke=\"black\" points=\"131,-112.25 131,-147.5\"/>\n",
       "<text text-anchor=\"middle\" x=\"182.5\" y=\"-125.2\" font-family=\"Times,serif\" font-size=\"14.00\">grad 0.0000</text>\n",
       "</g>\n",
       "<!-- 128462280861808* -->\n",
       "<g id=\"node3\" class=\"node\">\n",
       "<title>128462280861808*</title>\n",
       "<ellipse fill=\"none\" stroke=\"black\" cx=\"297\" cy=\"-101.5\" rx=\"27\" ry=\"18\"/>\n",
       "<text text-anchor=\"middle\" x=\"297\" y=\"-96.83\" font-family=\"Times,serif\" font-size=\"14.00\">*</text>\n",
       "</g>\n",
       "<!-- 128462280632864&#45;&gt;128462280861808* -->\n",
       "<g id=\"edge9\" class=\"edge\">\n",
       "<title>128462280632864&#45;&gt;128462280861808*</title>\n",
       "<path fill=\"none\" stroke=\"black\" d=\"M234.24,-111.21C243.07,-109.83 251.51,-108.5 259.15,-107.3\"/>\n",
       "<polygon fill=\"black\" stroke=\"black\" points=\"259.62,-110.77 268.96,-105.75 258.53,-103.85 259.62,-110.77\"/>\n",
       "</g>\n",
       "<!-- 128462280861808 -->\n",
       "<g id=\"node2\" class=\"node\">\n",
       "<title>128462280861808</title>\n",
       "<polygon fill=\"none\" stroke=\"black\" points=\"361.88,-83.5 361.88,-119.5 595.12,-119.5 595.12,-83.5 361.88,-83.5\"/>\n",
       "<text text-anchor=\"middle\" x=\"374\" y=\"-97.2\" font-family=\"Times,serif\" font-size=\"14.00\">e</text>\n",
       "<polyline fill=\"none\" stroke=\"black\" points=\"386.12,-84.25 386.12,-119.5\"/>\n",
       "<text text-anchor=\"middle\" x=\"439.12\" y=\"-97.2\" font-family=\"Times,serif\" font-size=\"14.00\">data &#45;6.0000</text>\n",
       "<polyline fill=\"none\" stroke=\"black\" points=\"492.12,-84.25 492.12,-119.5\"/>\n",
       "<text text-anchor=\"middle\" x=\"543.62\" y=\"-97.2\" font-family=\"Times,serif\" font-size=\"14.00\">grad 0.0000</text>\n",
       "</g>\n",
       "<!-- 128462280861952+ -->\n",
       "<g id=\"node5\" class=\"node\">\n",
       "<title>128462280861952+</title>\n",
       "<ellipse fill=\"none\" stroke=\"black\" cx=\"660\" cy=\"-73.5\" rx=\"27\" ry=\"18\"/>\n",
       "<text text-anchor=\"middle\" x=\"660\" y=\"-68.83\" font-family=\"Times,serif\" font-size=\"14.00\">+</text>\n",
       "</g>\n",
       "<!-- 128462280861808&#45;&gt;128462280861952+ -->\n",
       "<g id=\"edge8\" class=\"edge\">\n",
       "<title>128462280861808&#45;&gt;128462280861952+</title>\n",
       "<path fill=\"none\" stroke=\"black\" d=\"M595.46,-83.41C604.91,-81.94 613.94,-80.53 622.06,-79.26\"/>\n",
       "<polygon fill=\"black\" stroke=\"black\" points=\"622.44,-82.75 631.78,-77.75 621.36,-75.83 622.44,-82.75\"/>\n",
       "</g>\n",
       "<!-- 128462280861808*&#45;&gt;128462280861808 -->\n",
       "<g id=\"edge1\" class=\"edge\">\n",
       "<title>128462280861808*&#45;&gt;128462280861808</title>\n",
       "<path fill=\"none\" stroke=\"black\" d=\"M324.49,-101.5C332.06,-101.5 340.85,-101.5 350.32,-101.5\"/>\n",
       "<polygon fill=\"black\" stroke=\"black\" points=\"350.2,-105 360.2,-101.5 350.2,-98 350.2,-105\"/>\n",
       "</g>\n",
       "<!-- 128462280861952 -->\n",
       "<g id=\"node4\" class=\"node\">\n",
       "<title>128462280861952</title>\n",
       "<polygon fill=\"none\" stroke=\"black\" points=\"723.38,-55.5 723.38,-91.5 952.88,-91.5 952.88,-55.5 723.38,-55.5\"/>\n",
       "<text text-anchor=\"middle\" x=\"735.88\" y=\"-69.2\" font-family=\"Times,serif\" font-size=\"14.00\">d</text>\n",
       "<polyline fill=\"none\" stroke=\"black\" points=\"748.38,-56.25 748.38,-91.5\"/>\n",
       "<text text-anchor=\"middle\" x=\"799.12\" y=\"-69.2\" font-family=\"Times,serif\" font-size=\"14.00\">data 4.0000</text>\n",
       "<polyline fill=\"none\" stroke=\"black\" points=\"849.88,-56.25 849.88,-91.5\"/>\n",
       "<text text-anchor=\"middle\" x=\"901.38\" y=\"-69.2\" font-family=\"Times,serif\" font-size=\"14.00\">grad 0.0000</text>\n",
       "</g>\n",
       "<!-- 128462280864160* -->\n",
       "<g id=\"node10\" class=\"node\">\n",
       "<title>128462280864160*</title>\n",
       "<ellipse fill=\"none\" stroke=\"black\" cx=\"1016.25\" cy=\"-45.5\" rx=\"27\" ry=\"18\"/>\n",
       "<text text-anchor=\"middle\" x=\"1016.25\" y=\"-40.83\" font-family=\"Times,serif\" font-size=\"14.00\">*</text>\n",
       "</g>\n",
       "<!-- 128462280861952&#45;&gt;128462280864160* -->\n",
       "<g id=\"edge7\" class=\"edge\">\n",
       "<title>128462280861952&#45;&gt;128462280864160*</title>\n",
       "<path fill=\"none\" stroke=\"black\" d=\"M953.15,-55.37C962.01,-53.96 970.48,-52.62 978.16,-51.4\"/>\n",
       "<polygon fill=\"black\" stroke=\"black\" points=\"978.7,-54.86 988.02,-49.83 977.6,-47.94 978.7,-54.86\"/>\n",
       "</g>\n",
       "<!-- 128462280861952+&#45;&gt;128462280861952 -->\n",
       "<g id=\"edge2\" class=\"edge\">\n",
       "<title>128462280861952+&#45;&gt;128462280861952</title>\n",
       "<path fill=\"none\" stroke=\"black\" d=\"M687.37,-73.5C694.6,-73.5 702.95,-73.5 711.92,-73.5\"/>\n",
       "<polygon fill=\"black\" stroke=\"black\" points=\"711.64,-77 721.64,-73.5 711.64,-70 711.64,-77\"/>\n",
       "</g>\n",
       "<!-- 128462280863056 -->\n",
       "<g id=\"node6\" class=\"node\">\n",
       "<title>128462280863056</title>\n",
       "<polygon fill=\"none\" stroke=\"black\" points=\"360,-28.5 360,-64.5 597,-64.5 597,-28.5 360,-28.5\"/>\n",
       "<text text-anchor=\"middle\" x=\"371.75\" y=\"-42.2\" font-family=\"Times,serif\" font-size=\"14.00\">c</text>\n",
       "<polyline fill=\"none\" stroke=\"black\" points=\"383.5,-29.25 383.5,-64.5\"/>\n",
       "<text text-anchor=\"middle\" x=\"438.75\" y=\"-42.2\" font-family=\"Times,serif\" font-size=\"14.00\">data 10.0000</text>\n",
       "<polyline fill=\"none\" stroke=\"black\" points=\"494,-29.25 494,-64.5\"/>\n",
       "<text text-anchor=\"middle\" x=\"545.5\" y=\"-42.2\" font-family=\"Times,serif\" font-size=\"14.00\">grad 0.0000</text>\n",
       "</g>\n",
       "<!-- 128462280863056&#45;&gt;128462280861952+ -->\n",
       "<g id=\"edge4\" class=\"edge\">\n",
       "<title>128462280863056&#45;&gt;128462280861952+</title>\n",
       "<path fill=\"none\" stroke=\"black\" d=\"M597.48,-64.25C606.21,-65.56 614.54,-66.81 622.1,-67.95\"/>\n",
       "<polygon fill=\"black\" stroke=\"black\" points=\"621.38,-71.38 631.78,-69.41 622.42,-64.46 621.38,-71.38\"/>\n",
       "</g>\n",
       "<!-- 128462280864640 -->\n",
       "<g id=\"node7\" class=\"node\">\n",
       "<title>128462280864640</title>\n",
       "<polygon fill=\"none\" stroke=\"black\" points=\"2.62,-56.5 2.62,-92.5 231.38,-92.5 231.38,-56.5 2.62,-56.5\"/>\n",
       "<text text-anchor=\"middle\" x=\"14.75\" y=\"-70.2\" font-family=\"Times,serif\" font-size=\"14.00\">a</text>\n",
       "<polyline fill=\"none\" stroke=\"black\" points=\"26.88,-57.25 26.88,-92.5\"/>\n",
       "<text text-anchor=\"middle\" x=\"77.62\" y=\"-70.2\" font-family=\"Times,serif\" font-size=\"14.00\">data 2.0000</text>\n",
       "<polyline fill=\"none\" stroke=\"black\" points=\"128.38,-57.25 128.38,-92.5\"/>\n",
       "<text text-anchor=\"middle\" x=\"179.88\" y=\"-70.2\" font-family=\"Times,serif\" font-size=\"14.00\">grad 0.0000</text>\n",
       "</g>\n",
       "<!-- 128462280864640&#45;&gt;128462280861808* -->\n",
       "<g id=\"edge5\" class=\"edge\">\n",
       "<title>128462280864640&#45;&gt;128462280861808*</title>\n",
       "<path fill=\"none\" stroke=\"black\" d=\"M231.74,-91.75C241.46,-93.23 250.76,-94.64 259.11,-95.9\"/>\n",
       "<polygon fill=\"black\" stroke=\"black\" points=\"258.33,-99.33 268.74,-97.37 259.38,-92.4 258.33,-99.33\"/>\n",
       "</g>\n",
       "<!-- 128462280863632 -->\n",
       "<g id=\"node8\" class=\"node\">\n",
       "<title>128462280863632</title>\n",
       "<polygon fill=\"none\" stroke=\"black\" points=\"723,-0.5 723,-36.5 953.25,-36.5 953.25,-0.5 723,-0.5\"/>\n",
       "<text text-anchor=\"middle\" x=\"733.62\" y=\"-14.2\" font-family=\"Times,serif\" font-size=\"14.00\">f</text>\n",
       "<polyline fill=\"none\" stroke=\"black\" points=\"744.25,-1.25 744.25,-36.5\"/>\n",
       "<text text-anchor=\"middle\" x=\"797.25\" y=\"-14.2\" font-family=\"Times,serif\" font-size=\"14.00\">data &#45;2.0000</text>\n",
       "<polyline fill=\"none\" stroke=\"black\" points=\"850.25,-1.25 850.25,-36.5\"/>\n",
       "<text text-anchor=\"middle\" x=\"901.75\" y=\"-14.2\" font-family=\"Times,serif\" font-size=\"14.00\">grad 0.0000</text>\n",
       "</g>\n",
       "<!-- 128462280863632&#45;&gt;128462280864160* -->\n",
       "<g id=\"edge6\" class=\"edge\">\n",
       "<title>128462280863632&#45;&gt;128462280864160*</title>\n",
       "<path fill=\"none\" stroke=\"black\" d=\"M953.65,-36.06C962.36,-37.39 970.69,-38.67 978.25,-39.83\"/>\n",
       "<polygon fill=\"black\" stroke=\"black\" points=\"977.53,-43.26 987.95,-41.31 978.6,-36.34 977.53,-43.26\"/>\n",
       "</g>\n",
       "<!-- 128462280864160 -->\n",
       "<g id=\"node9\" class=\"node\">\n",
       "<title>128462280864160</title>\n",
       "<polygon fill=\"none\" stroke=\"black\" points=\"1079.25,-27.5 1079.25,-63.5 1308.75,-63.5 1308.75,-27.5 1079.25,-27.5\"/>\n",
       "<text text-anchor=\"middle\" x=\"1089.5\" y=\"-41.2\" font-family=\"Times,serif\" font-size=\"14.00\"> </text>\n",
       "<polyline fill=\"none\" stroke=\"black\" points=\"1099.75,-28.25 1099.75,-63.5\"/>\n",
       "<text text-anchor=\"middle\" x=\"1152.75\" y=\"-41.2\" font-family=\"Times,serif\" font-size=\"14.00\">data &#45;8.0000</text>\n",
       "<polyline fill=\"none\" stroke=\"black\" points=\"1205.75,-28.25 1205.75,-63.5\"/>\n",
       "<text text-anchor=\"middle\" x=\"1257.25\" y=\"-41.2\" font-family=\"Times,serif\" font-size=\"14.00\">grad 1.0000</text>\n",
       "</g>\n",
       "<!-- 128462280864160*&#45;&gt;128462280864160 -->\n",
       "<g id=\"edge3\" class=\"edge\">\n",
       "<title>128462280864160*&#45;&gt;128462280864160</title>\n",
       "<path fill=\"none\" stroke=\"black\" d=\"M1043.56,-45.5C1050.63,-45.5 1058.77,-45.5 1067.52,-45.5\"/>\n",
       "<polygon fill=\"black\" stroke=\"black\" points=\"1067.39,-49 1077.39,-45.5 1067.39,-42 1067.39,-49\"/>\n",
       "</g>\n",
       "</g>\n",
       "</svg>\n"
      ],
      "text/plain": [
       "<graphviz.graphs.Digraph at 0x74d5f4745250>"
      ]
     },
     "execution_count": 21,
     "metadata": {},
     "output_type": "execute_result"
    }
   ],
   "source": [
    "draw_dot(L)"
   ]
  },
  {
   "cell_type": "code",
   "execution_count": 25,
   "id": "ee44c19f-7ef9-43e2-b4df-8b56bac87b38",
   "metadata": {},
   "outputs": [
    {
     "name": "stdout",
     "output_type": "stream",
     "text": [
      "-2.000000000000668\n"
     ]
    }
   ],
   "source": [
    "L = d * f\n",
    "# dL/dd = ?\n",
    "\n",
    "h = 0.001\n",
    "grad = ((d.data+h)*f.data - d.data*f.data)/h\n",
    "print(grad)"
   ]
  },
  {
   "cell_type": "code",
   "execution_count": 26,
   "id": "5507d20d-9785-4042-8b86-cbd2ffe48db9",
   "metadata": {},
   "outputs": [],
   "source": [
    "f.grad = 4.0\n",
    "d.grad = -2.0"
   ]
  },
  {
   "cell_type": "code",
   "execution_count": 27,
   "id": "b1119567-019e-4650-898c-e5227cd95642",
   "metadata": {},
   "outputs": [],
   "source": [
    "L.grad = 1.0"
   ]
  },
  {
   "cell_type": "code",
   "execution_count": 28,
   "id": "097fa07f-205e-435a-81e3-2458185b334f",
   "metadata": {},
   "outputs": [
    {
     "name": "stdout",
     "output_type": "stream",
     "text": [
      "6.000000000000227\n"
     ]
    }
   ],
   "source": [
    "def lol():\n",
    "\n",
    "    h = 0.001\n",
    "    \n",
    "    a = Value(2.0, label = 'a')\n",
    "    b = Value(-3.0, label = 'b')\n",
    "    c = Value(10.0, label = 'c')\n",
    "    e = a*b; e.label = 'e'\n",
    "    d = e + c; d.label = 'd'\n",
    "    f = Value(-2.0, label = 'f')\n",
    "    L = d * f; L.label = 'L'\n",
    "    L1 = L.data\n",
    "\n",
    "    a = Value(2.0+h, label = 'a')\n",
    "    b = Value(-3.0, label = 'b')\n",
    "    c = Value(10.0, label = 'c')\n",
    "    e = a*b; e.label = 'e'\n",
    "    d = e + c; d.label = 'd'\n",
    "    f = Value(-2.0, label = 'f')\n",
    "    L = d * f; L.label = 'L'\n",
    "    L2 = L.data\n",
    "\n",
    "    print((L2-L1)/h)\n",
    "\n",
    "lol()"
   ]
  },
  {
   "cell_type": "code",
   "execution_count": 30,
   "id": "ca1035a6-3607-4d5a-a284-e56cc0b878b8",
   "metadata": {},
   "outputs": [
    {
     "data": {
      "image/svg+xml": [
       "<?xml version=\"1.0\" encoding=\"UTF-8\" standalone=\"no\"?>\n",
       "<!DOCTYPE svg PUBLIC \"-//W3C//DTD SVG 1.1//EN\"\n",
       " \"http://www.w3.org/Graphics/SVG/1.1/DTD/svg11.dtd\">\n",
       "<!-- Generated by graphviz version 12.1.2 (0)\n",
       " -->\n",
       "<!-- Pages: 1 -->\n",
       "<svg width=\"1321pt\" height=\"156pt\"\n",
       " viewBox=\"0.00 0.00 1320.50 156.00\" xmlns=\"http://www.w3.org/2000/svg\" xmlns:xlink=\"http://www.w3.org/1999/xlink\">\n",
       "<g id=\"graph0\" class=\"graph\" transform=\"scale(1 1) rotate(0) translate(4 152)\">\n",
       "<polygon fill=\"white\" stroke=\"none\" points=\"-4,4 -4,-152 1316.5,-152 1316.5,4 -4,4\"/>\n",
       "<!-- 128462279891456 -->\n",
       "<g id=\"node1\" class=\"node\">\n",
       "<title>128462279891456</title>\n",
       "<polygon fill=\"none\" stroke=\"black\" points=\"1083,-27.5 1083,-63.5 1312.5,-63.5 1312.5,-27.5 1083,-27.5\"/>\n",
       "<text text-anchor=\"middle\" x=\"1093.25\" y=\"-41.2\" font-family=\"Times,serif\" font-size=\"14.00\"> </text>\n",
       "<polyline fill=\"none\" stroke=\"black\" points=\"1103.5,-28.25 1103.5,-63.5\"/>\n",
       "<text text-anchor=\"middle\" x=\"1156.5\" y=\"-41.2\" font-family=\"Times,serif\" font-size=\"14.00\">data &#45;8.0000</text>\n",
       "<polyline fill=\"none\" stroke=\"black\" points=\"1209.5,-28.25 1209.5,-63.5\"/>\n",
       "<text text-anchor=\"middle\" x=\"1261\" y=\"-41.2\" font-family=\"Times,serif\" font-size=\"14.00\">grad 1.0000</text>\n",
       "</g>\n",
       "<!-- 128462279891456* -->\n",
       "<g id=\"node2\" class=\"node\">\n",
       "<title>128462279891456*</title>\n",
       "<ellipse fill=\"none\" stroke=\"black\" cx=\"1020\" cy=\"-45.5\" rx=\"27\" ry=\"18\"/>\n",
       "<text text-anchor=\"middle\" x=\"1020\" y=\"-40.83\" font-family=\"Times,serif\" font-size=\"14.00\">*</text>\n",
       "</g>\n",
       "<!-- 128462279891456*&#45;&gt;128462279891456 -->\n",
       "<g id=\"edge1\" class=\"edge\">\n",
       "<title>128462279891456*&#45;&gt;128462279891456</title>\n",
       "<path fill=\"none\" stroke=\"black\" d=\"M1047.31,-45.5C1054.38,-45.5 1062.52,-45.5 1071.27,-45.5\"/>\n",
       "<polygon fill=\"black\" stroke=\"black\" points=\"1071.14,-49 1081.14,-45.5 1071.14,-42 1071.14,-49\"/>\n",
       "</g>\n",
       "<!-- 128462280632864 -->\n",
       "<g id=\"node3\" class=\"node\">\n",
       "<title>128462280632864</title>\n",
       "<polygon fill=\"none\" stroke=\"black\" points=\"0,-111.5 0,-147.5 234,-147.5 234,-111.5 0,-111.5\"/>\n",
       "<text text-anchor=\"middle\" x=\"12.5\" y=\"-125.2\" font-family=\"Times,serif\" font-size=\"14.00\">b</text>\n",
       "<polyline fill=\"none\" stroke=\"black\" points=\"25,-112.25 25,-147.5\"/>\n",
       "<text text-anchor=\"middle\" x=\"78\" y=\"-125.2\" font-family=\"Times,serif\" font-size=\"14.00\">data &#45;3.0000</text>\n",
       "<polyline fill=\"none\" stroke=\"black\" points=\"131,-112.25 131,-147.5\"/>\n",
       "<text text-anchor=\"middle\" x=\"182.5\" y=\"-125.2\" font-family=\"Times,serif\" font-size=\"14.00\">grad 0.0000</text>\n",
       "</g>\n",
       "<!-- 128462280861808* -->\n",
       "<g id=\"node5\" class=\"node\">\n",
       "<title>128462280861808*</title>\n",
       "<ellipse fill=\"none\" stroke=\"black\" cx=\"297\" cy=\"-101.5\" rx=\"27\" ry=\"18\"/>\n",
       "<text text-anchor=\"middle\" x=\"297\" y=\"-96.83\" font-family=\"Times,serif\" font-size=\"14.00\">*</text>\n",
       "</g>\n",
       "<!-- 128462280632864&#45;&gt;128462280861808* -->\n",
       "<g id=\"edge9\" class=\"edge\">\n",
       "<title>128462280632864&#45;&gt;128462280861808*</title>\n",
       "<path fill=\"none\" stroke=\"black\" d=\"M234.24,-111.21C243.07,-109.83 251.51,-108.5 259.15,-107.3\"/>\n",
       "<polygon fill=\"black\" stroke=\"black\" points=\"259.62,-110.77 268.96,-105.75 258.53,-103.85 259.62,-110.77\"/>\n",
       "</g>\n",
       "<!-- 128462280861808 -->\n",
       "<g id=\"node4\" class=\"node\">\n",
       "<title>128462280861808</title>\n",
       "<polygon fill=\"none\" stroke=\"black\" points=\"361.88,-83.5 361.88,-119.5 595.12,-119.5 595.12,-83.5 361.88,-83.5\"/>\n",
       "<text text-anchor=\"middle\" x=\"374\" y=\"-97.2\" font-family=\"Times,serif\" font-size=\"14.00\">e</text>\n",
       "<polyline fill=\"none\" stroke=\"black\" points=\"386.12,-84.25 386.12,-119.5\"/>\n",
       "<text text-anchor=\"middle\" x=\"439.12\" y=\"-97.2\" font-family=\"Times,serif\" font-size=\"14.00\">data &#45;6.0000</text>\n",
       "<polyline fill=\"none\" stroke=\"black\" points=\"492.12,-84.25 492.12,-119.5\"/>\n",
       "<text text-anchor=\"middle\" x=\"543.62\" y=\"-97.2\" font-family=\"Times,serif\" font-size=\"14.00\">grad 0.0000</text>\n",
       "</g>\n",
       "<!-- 128462280861952+ -->\n",
       "<g id=\"node7\" class=\"node\">\n",
       "<title>128462280861952+</title>\n",
       "<ellipse fill=\"none\" stroke=\"black\" cx=\"660\" cy=\"-73.5\" rx=\"27\" ry=\"18\"/>\n",
       "<text text-anchor=\"middle\" x=\"660\" y=\"-68.83\" font-family=\"Times,serif\" font-size=\"14.00\">+</text>\n",
       "</g>\n",
       "<!-- 128462280861808&#45;&gt;128462280861952+ -->\n",
       "<g id=\"edge8\" class=\"edge\">\n",
       "<title>128462280861808&#45;&gt;128462280861952+</title>\n",
       "<path fill=\"none\" stroke=\"black\" d=\"M595.46,-83.41C604.91,-81.94 613.94,-80.53 622.06,-79.26\"/>\n",
       "<polygon fill=\"black\" stroke=\"black\" points=\"622.44,-82.75 631.78,-77.75 621.36,-75.83 622.44,-82.75\"/>\n",
       "</g>\n",
       "<!-- 128462280861808*&#45;&gt;128462280861808 -->\n",
       "<g id=\"edge2\" class=\"edge\">\n",
       "<title>128462280861808*&#45;&gt;128462280861808</title>\n",
       "<path fill=\"none\" stroke=\"black\" d=\"M324.49,-101.5C332.06,-101.5 340.85,-101.5 350.32,-101.5\"/>\n",
       "<polygon fill=\"black\" stroke=\"black\" points=\"350.2,-105 360.2,-101.5 350.2,-98 350.2,-105\"/>\n",
       "</g>\n",
       "<!-- 128462280861952 -->\n",
       "<g id=\"node6\" class=\"node\">\n",
       "<title>128462280861952</title>\n",
       "<polygon fill=\"none\" stroke=\"black\" points=\"723,-55.5 723,-91.5 957,-91.5 957,-55.5 723,-55.5\"/>\n",
       "<text text-anchor=\"middle\" x=\"735.5\" y=\"-69.2\" font-family=\"Times,serif\" font-size=\"14.00\">d</text>\n",
       "<polyline fill=\"none\" stroke=\"black\" points=\"748,-56.25 748,-91.5\"/>\n",
       "<text text-anchor=\"middle\" x=\"798.75\" y=\"-69.2\" font-family=\"Times,serif\" font-size=\"14.00\">data 4.0000</text>\n",
       "<polyline fill=\"none\" stroke=\"black\" points=\"849.5,-56.25 849.5,-91.5\"/>\n",
       "<text text-anchor=\"middle\" x=\"903.25\" y=\"-69.2\" font-family=\"Times,serif\" font-size=\"14.00\">grad &#45;2.0000</text>\n",
       "</g>\n",
       "<!-- 128462280861952&#45;&gt;128462279891456* -->\n",
       "<g id=\"edge4\" class=\"edge\">\n",
       "<title>128462280861952&#45;&gt;128462279891456*</title>\n",
       "<path fill=\"none\" stroke=\"black\" d=\"M957.24,-55.21C966.07,-53.83 974.51,-52.5 982.15,-51.3\"/>\n",
       "<polygon fill=\"black\" stroke=\"black\" points=\"982.62,-54.77 991.96,-49.75 981.53,-47.85 982.62,-54.77\"/>\n",
       "</g>\n",
       "<!-- 128462280861952+&#45;&gt;128462280861952 -->\n",
       "<g id=\"edge3\" class=\"edge\">\n",
       "<title>128462280861952+&#45;&gt;128462280861952</title>\n",
       "<path fill=\"none\" stroke=\"black\" d=\"M687.26,-73.5C694.34,-73.5 702.48,-73.5 711.25,-73.5\"/>\n",
       "<polygon fill=\"black\" stroke=\"black\" points=\"711.15,-77 721.15,-73.5 711.15,-70 711.15,-77\"/>\n",
       "</g>\n",
       "<!-- 128462280863056 -->\n",
       "<g id=\"node8\" class=\"node\">\n",
       "<title>128462280863056</title>\n",
       "<polygon fill=\"none\" stroke=\"black\" points=\"360,-28.5 360,-64.5 597,-64.5 597,-28.5 360,-28.5\"/>\n",
       "<text text-anchor=\"middle\" x=\"371.75\" y=\"-42.2\" font-family=\"Times,serif\" font-size=\"14.00\">c</text>\n",
       "<polyline fill=\"none\" stroke=\"black\" points=\"383.5,-29.25 383.5,-64.5\"/>\n",
       "<text text-anchor=\"middle\" x=\"438.75\" y=\"-42.2\" font-family=\"Times,serif\" font-size=\"14.00\">data 10.0000</text>\n",
       "<polyline fill=\"none\" stroke=\"black\" points=\"494,-29.25 494,-64.5\"/>\n",
       "<text text-anchor=\"middle\" x=\"545.5\" y=\"-42.2\" font-family=\"Times,serif\" font-size=\"14.00\">grad 0.0000</text>\n",
       "</g>\n",
       "<!-- 128462280863056&#45;&gt;128462280861952+ -->\n",
       "<g id=\"edge6\" class=\"edge\">\n",
       "<title>128462280863056&#45;&gt;128462280861952+</title>\n",
       "<path fill=\"none\" stroke=\"black\" d=\"M597.48,-64.25C606.21,-65.56 614.54,-66.81 622.1,-67.95\"/>\n",
       "<polygon fill=\"black\" stroke=\"black\" points=\"621.38,-71.38 631.78,-69.41 622.42,-64.46 621.38,-71.38\"/>\n",
       "</g>\n",
       "<!-- 128462280864640 -->\n",
       "<g id=\"node9\" class=\"node\">\n",
       "<title>128462280864640</title>\n",
       "<polygon fill=\"none\" stroke=\"black\" points=\"2.62,-56.5 2.62,-92.5 231.38,-92.5 231.38,-56.5 2.62,-56.5\"/>\n",
       "<text text-anchor=\"middle\" x=\"14.75\" y=\"-70.2\" font-family=\"Times,serif\" font-size=\"14.00\">a</text>\n",
       "<polyline fill=\"none\" stroke=\"black\" points=\"26.88,-57.25 26.88,-92.5\"/>\n",
       "<text text-anchor=\"middle\" x=\"77.62\" y=\"-70.2\" font-family=\"Times,serif\" font-size=\"14.00\">data 2.0000</text>\n",
       "<polyline fill=\"none\" stroke=\"black\" points=\"128.38,-57.25 128.38,-92.5\"/>\n",
       "<text text-anchor=\"middle\" x=\"179.88\" y=\"-70.2\" font-family=\"Times,serif\" font-size=\"14.00\">grad 0.0000</text>\n",
       "</g>\n",
       "<!-- 128462280864640&#45;&gt;128462280861808* -->\n",
       "<g id=\"edge7\" class=\"edge\">\n",
       "<title>128462280864640&#45;&gt;128462280861808*</title>\n",
       "<path fill=\"none\" stroke=\"black\" d=\"M231.74,-91.75C241.46,-93.23 250.76,-94.64 259.11,-95.9\"/>\n",
       "<polygon fill=\"black\" stroke=\"black\" points=\"258.33,-99.33 268.74,-97.37 259.38,-92.4 258.33,-99.33\"/>\n",
       "</g>\n",
       "<!-- 128462280863632 -->\n",
       "<g id=\"node10\" class=\"node\">\n",
       "<title>128462280863632</title>\n",
       "<polygon fill=\"none\" stroke=\"black\" points=\"724.88,-0.5 724.88,-36.5 955.12,-36.5 955.12,-0.5 724.88,-0.5\"/>\n",
       "<text text-anchor=\"middle\" x=\"735.5\" y=\"-14.2\" font-family=\"Times,serif\" font-size=\"14.00\">f</text>\n",
       "<polyline fill=\"none\" stroke=\"black\" points=\"746.12,-1.25 746.12,-36.5\"/>\n",
       "<text text-anchor=\"middle\" x=\"799.12\" y=\"-14.2\" font-family=\"Times,serif\" font-size=\"14.00\">data &#45;2.0000</text>\n",
       "<polyline fill=\"none\" stroke=\"black\" points=\"852.12,-1.25 852.12,-36.5\"/>\n",
       "<text text-anchor=\"middle\" x=\"903.62\" y=\"-14.2\" font-family=\"Times,serif\" font-size=\"14.00\">grad 4.0000</text>\n",
       "</g>\n",
       "<!-- 128462280863632&#45;&gt;128462279891456* -->\n",
       "<g id=\"edge5\" class=\"edge\">\n",
       "<title>128462280863632&#45;&gt;128462279891456*</title>\n",
       "<path fill=\"none\" stroke=\"black\" d=\"M955.49,-35.87C964.92,-37.3 973.94,-38.66 982.06,-39.9\"/>\n",
       "<polygon fill=\"black\" stroke=\"black\" points=\"981.36,-43.33 991.77,-41.37 982.41,-36.41 981.36,-43.33\"/>\n",
       "</g>\n",
       "</g>\n",
       "</svg>\n"
      ],
      "text/plain": [
       "<graphviz.graphs.Digraph at 0x74d5f4745b80>"
      ]
     },
     "execution_count": 30,
     "metadata": {},
     "output_type": "execute_result"
    }
   ],
   "source": [
    "draw_dot(L)"
   ]
  },
  {
   "cell_type": "code",
   "execution_count": null,
   "id": "750103bc-22d8-4234-9c19-1d5d1aebd252",
   "metadata": {},
   "outputs": [],
   "source": []
  }
 ],
 "metadata": {
  "kernelspec": {
   "display_name": "Python 3 (ipykernel)",
   "language": "python",
   "name": "python3"
  },
  "language_info": {
   "codemirror_mode": {
    "name": "ipython",
    "version": 3
   },
   "file_extension": ".py",
   "mimetype": "text/x-python",
   "name": "python",
   "nbconvert_exporter": "python",
   "pygments_lexer": "ipython3",
   "version": "3.12.7"
  }
 },
 "nbformat": 4,
 "nbformat_minor": 5
}
